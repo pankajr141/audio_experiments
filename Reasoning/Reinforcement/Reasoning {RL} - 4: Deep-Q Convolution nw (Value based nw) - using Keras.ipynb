{
  "nbformat": 4,
  "nbformat_minor": 0,
  "metadata": {
    "colab": {
      "name": "Reasoning {RL} - 4: Deep-Q Convolution nw (Value based nw).ipynb",
      "provenance": [],
      "collapsed_sections": [],
      "include_colab_link": true
    },
    "kernelspec": {
      "name": "python3",
      "display_name": "Python 3"
    },
    "accelerator": "TPU"
  },
  "cells": [
    {
      "cell_type": "markdown",
      "metadata": {
        "id": "view-in-github",
        "colab_type": "text"
      },
      "source": [
        "<a href=\"https://colab.research.google.com/github/pankajr141/experiments/blob/master/Reasoning/Reinforcement/Reasoning%20%7BRL%7D%20-%204%3A%20Deep-Q%20Convolution%20nw%20(Value%20based%20nw).ipynb\" target=\"_parent\"><img src=\"https://colab.research.google.com/assets/colab-badge.svg\" alt=\"Open In Colab\"/></a>"
      ]
    },
    {
      "cell_type": "markdown",
      "metadata": {
        "id": "dW2eFPp05j0V",
        "colab_type": "text"
      },
      "source": [
        "## Refrences\n",
        "https://medium.com/@awjuliani/simple-reinforcement-learning-with-tensorflow-part-4-deep-q-networks-and-beyond-8438a3e2b8df\n",
        "\n",
        "https://github.com/breeko/Simple-Reinforcement-Learning-with-Tensorflow/blob/master/Part%204%20-%20Deep%20Q-Networks%20and%20Beyond%20with%20Keras.ipynb  -- Keras\n",
        "\n",
        "https://github.com/awjuliani/DeepRL-Agents/blob/master/Double-Dueling-DQN.ipynb -- Tensorflow\n"
      ]
    },
    {
      "cell_type": "markdown",
      "metadata": {
        "id": "HnnDdaK3KyKj",
        "colab_type": "text"
      },
      "source": [
        "Instead of a single layer perceptron or policy based n/w, we will be implmenting DeepQ N/w which are value based learners meaning in bellmon equation we will be learning the value of a given state + advantage of moving from a givent state when some action is performed which is different from policy based n/w where we just update n/w weight and dont care about value of states. \n",
        "\n",
        "**Value function V(s)** - which says simple how good network thinks it is in current state. \n",
        "\n",
        "**Advantage function A(a)** - which tells how much better taking a certain action would be compared to the others.\n",
        "\n",
        "Q(s,a) = V(s) + A(a)   # This Equation will be used heavenly below.\n",
        "\n",
        "\n",
        "### Changes\n",
        "\n",
        "\n",
        "\n",
        "*   **Deep Q - convolution layers**  - here we will consider our input as an image where the whole image is a state and our n/w  will use convolution to know the meaning of states. \n",
        "*   **Experiance Relay** - We will be storing the states into a buffer and later we will sample the buffer to train our n/w on past experiances rather then immediate ones. The size of buffer is limited and is Queue based meaning only recent experiances are retained.\n",
        "*   **Separate Target n/w** - We will have 2 n/w, 1st will generate Q-output values and 2nd will generate target Q values for loss calculations. The frequency of update for 2nd n/w is low compared to 1st, to help stablization. As if 2nd n/w value change whch are used to traing estimate Q values for each iteration system will never get stable 1 needed to be fixed (for certain duration).\n"
      ]
    },
    {
      "cell_type": "markdown",
      "metadata": {
        "id": "DkwT052_80nB",
        "colab_type": "text"
      },
      "source": [
        "### Env\n",
        "\n",
        "Grid World Env, no need to study code.\n",
        "\n",
        "In the environment the agent controls a blue square, and the goal is to navigate to the green squares (reward +1) while avoiding the red squares (reward -1).\n"
      ]
    },
    {
      "cell_type": "code",
      "metadata": {
        "id": "kWeV2OyH-SdF",
        "colab_type": "code",
        "colab": {}
      },
      "source": [
        "import numpy as np\n",
        "import random\n",
        "import itertools\n",
        "import scipy.misc\n",
        "import matplotlib.pyplot as plt\n",
        "from PIL import Image\n",
        "\n",
        "class gameOb():\n",
        "    def __init__(self,coordinates,size,intensity,channel,reward,name):\n",
        "        self.x = coordinates[0]\n",
        "        self.y = coordinates[1]\n",
        "        self.size = size\n",
        "        self.intensity = intensity\n",
        "        self.channel = channel\n",
        "        self.reward = reward\n",
        "        self.name = name\n",
        "        \n",
        "class gameEnv():\n",
        "    def __init__(self,partial,size):\n",
        "        self.sizeX = size\n",
        "        self.sizeY = size\n",
        "        self.actions = 4\n",
        "        self.objects = []\n",
        "        self.partial = partial\n",
        "        \n",
        "        a = self.reset()\n",
        "        plt.imshow(a,interpolation=\"nearest\")\n",
        "        \n",
        "        \n",
        "    def reset(self):\n",
        "        self.objects = []\n",
        "        hero = gameOb(self.newPosition(),1,1,2,None,'hero')\n",
        "        self.objects.append(hero)\n",
        "        bug = gameOb(self.newPosition(),1,1,1,1,'goal')\n",
        "        self.objects.append(bug)\n",
        "        hole = gameOb(self.newPosition(),1,1,0,-1,'fire')\n",
        "        self.objects.append(hole)\n",
        "        bug2 = gameOb(self.newPosition(),1,1,1,1,'goal')\n",
        "        self.objects.append(bug2)\n",
        "        hole2 = gameOb(self.newPosition(),1,1,0,-1,'fire')\n",
        "        self.objects.append(hole2)\n",
        "        bug3 = gameOb(self.newPosition(),1,1,1,1,'goal')\n",
        "        self.objects.append(bug3)\n",
        "        bug4 = gameOb(self.newPosition(),1,1,1,1,'goal')\n",
        "        self.objects.append(bug4)\n",
        "        state = self.renderEnv()\n",
        "        self.state = state\n",
        "        return state\n",
        "\n",
        "    def moveChar(self,direction):\n",
        "        # 0 - up, 1 - down, 2 - left, 3 - right\n",
        "        hero = self.objects[0]\n",
        "        heroX = hero.x\n",
        "        heroY = hero.y\n",
        "        penalize = 0.\n",
        "        if direction == 0 and hero.y >= 1:\n",
        "            hero.y -= 1\n",
        "        if direction == 1 and hero.y <= self.sizeY-2:\n",
        "            hero.y += 1\n",
        "        if direction == 2 and hero.x >= 1:\n",
        "            hero.x -= 1\n",
        "        if direction == 3 and hero.x <= self.sizeX-2:\n",
        "            hero.x += 1     \n",
        "        if hero.x == heroX and hero.y == heroY:\n",
        "            penalize = 0.0\n",
        "        self.objects[0] = hero\n",
        "        return penalize\n",
        "    \n",
        "    def newPosition(self):\n",
        "        iterables = [ range(self.sizeX), range(self.sizeY)]\n",
        "        points = []\n",
        "        for t in itertools.product(*iterables):\n",
        "            points.append(t)\n",
        "        currentPositions = []\n",
        "        for objectA in self.objects:\n",
        "            if (objectA.x,objectA.y) not in currentPositions:\n",
        "                currentPositions.append((objectA.x,objectA.y))\n",
        "        for pos in currentPositions:\n",
        "            points.remove(pos)\n",
        "        location = np.random.choice(range(len(points)),replace=False)\n",
        "        return points[location]\n",
        "\n",
        "    def checkGoal(self):\n",
        "        others = []\n",
        "        for obj in self.objects:\n",
        "            if obj.name == 'hero':\n",
        "                hero = obj\n",
        "            else:\n",
        "                others.append(obj)\n",
        "        ended = False\n",
        "        for other in others:\n",
        "            if hero.x == other.x and hero.y == other.y:\n",
        "                self.objects.remove(other)\n",
        "                if other.reward == 1:\n",
        "                    self.objects.append(gameOb(self.newPosition(),1,1,1,1,'goal'))\n",
        "                else: \n",
        "                    self.objects.append(gameOb(self.newPosition(),1,1,0,-1,'fire'))\n",
        "                return other.reward,False\n",
        "        if ended == False:\n",
        "            return 0.0,False\n",
        "\n",
        "    def renderEnv(self):\n",
        "        #a = np.zeros([self.sizeY,self.sizeX,3])\n",
        "        a = np.ones([self.sizeY+2,self.sizeX+2,3])\n",
        "        a[1:-1,1:-1,:] = 0\n",
        "        hero = None\n",
        "        for item in self.objects:\n",
        "            a[item.y+1:item.y+item.size+1,item.x+1:item.x+item.size+1,item.channel] = item.intensity\n",
        "            if item.name == 'hero':\n",
        "                hero = item\n",
        "        if self.partial == True:\n",
        "            a = a[hero.y:hero.y+3,hero.x:hero.x+3,:]\n",
        "\n",
        "        # converting a low dimentinal array to an image with high dimention\n",
        "\n",
        "        ''' Deprecated in scipy '''\n",
        "#         b = scipy.misc.imresize(a[:,:,0], [84,84,1], interp='nearest')\n",
        "#         c = scipy.misc.imresize(a[:,:,1], [84,84,1], interp='nearest')\n",
        "#         d = scipy.misc.imresize(a[:,:,2], [84,84,1], interp='nearest')\n",
        "\n",
        "        # (7, 7, 3) => (84, 84, 3)\n",
        "        b = np.array(Image.fromarray(a[:,:,0]).resize((84, 84), Image.NEAREST)).reshape(84, 84)\n",
        "        c = np.array(Image.fromarray(a[:,:,1]).resize((84, 84), Image.NEAREST)).reshape(84, 84)\n",
        "        d = np.array(Image.fromarray(a[:,:,2]).resize((84, 84), Image.NEAREST)).reshape(84, 84)\n",
        "        \n",
        "        a = np.stack([b,c,d], axis=2)\n",
        "\n",
        "        return a\n",
        "\n",
        "    def step(self,action):\n",
        "        penalty = self.moveChar(action)\n",
        "        reward,done = self.checkGoal()\n",
        "        state = self.renderEnv()\n",
        "        if reward == None:\n",
        "            print(done)\n",
        "            print(reward)\n",
        "            print(penalty)\n",
        "            return state,(reward+penalty),done\n",
        "        else:\n",
        "            return state,(reward+penalty),done\n"
      ],
      "execution_count": 0,
      "outputs": []
    },
    {
      "cell_type": "markdown",
      "metadata": {
        "id": "cLEW0FARBXVY",
        "colab_type": "text"
      },
      "source": [
        "## Codebase"
      ]
    },
    {
      "cell_type": "code",
      "metadata": {
        "id": "CUKK2efl5ZSB",
        "colab_type": "code",
        "colab": {
          "base_uri": "https://localhost:8080/",
          "height": 153
        },
        "outputId": "92bd985f-d457-4d67-a0a7-8083af80ee6c"
      },
      "source": [
        "from __future__ import division\n",
        "import gym\n",
        "import numpy as np\n",
        "import tensorflow as tf\n",
        "import tensorflow.contrib.slim as slim\n",
        "import matplotlib.pyplot as plt\n",
        "\n",
        "import scipy.misc\n",
        "import os\n",
        "%matplotlib inline"
      ],
      "execution_count": 3,
      "outputs": [
        {
          "output_type": "stream",
          "text": [
            "WARNING:tensorflow:\n",
            "The TensorFlow contrib module will not be included in TensorFlow 2.0.\n",
            "For more information, please see:\n",
            "  * https://github.com/tensorflow/community/blob/master/rfcs/20180907-contrib-sunset.md\n",
            "  * https://github.com/tensorflow/addons\n",
            "  * https://github.com/tensorflow/io (for I/O related ops)\n",
            "If you depend on functionality not listed there, please file an issue.\n",
            "\n"
          ],
          "name": "stdout"
        }
      ]
    },
    {
      "cell_type": "code",
      "metadata": {
        "id": "F_7hx0QV-JuI",
        "colab_type": "code",
        "outputId": "03de13b9-59bc-4a4c-bbe2-c79a665c2fed",
        "colab": {
          "base_uri": "https://localhost:8080/",
          "height": 269
        }
      },
      "source": [
        "env = gameEnv(partial=False, size=5)"
      ],
      "execution_count": 4,
      "outputs": [
        {
          "output_type": "display_data",
          "data": {
            "image/png": "[encoded data removed]",
            "text/plain": [
              "<Figure size 432x288 with 1 Axes>"
            ]
          },
          "metadata": {
            "tags": []
          }
        }
      ]
    },
    {
      "cell_type": "markdown",
      "metadata": {
        "id": "HSrtzodrBiuk",
        "colab_type": "text"
      },
      "source": [
        "This is the game we'll be working on. The player can move the blue square up, down, left or right. The point of the game is to get to the green square (+1 reward) and avoid the red square (-1 reward). Blocks are randomized\n"
      ]
    },
    {
      "cell_type": "code",
      "metadata": {
        "id": "FhkeqOMsBnJq",
        "colab_type": "code",
        "outputId": "0fdea95d-ee47-4e53-c1b6-67987057be91",
        "colab": {
          "base_uri": "https://localhost:8080/",
          "height": 303
        }
      },
      "source": [
        "def process_state(state):\n",
        "    \"\"\" This processes the state and converts to black & white. This will help speed up learning\n",
        "        as the number of parameters will be reduced.\n",
        "    \"\"\"\n",
        "    return state\n",
        "\n",
        "plt.imshow(process_state(env.state))\n",
        "\n",
        "print(\"Original shape: {}\".format(env.state.shape))\n",
        "print(\"Processed shape: {}\".format(process_state(env.state).shape))"
      ],
      "execution_count": 5,
      "outputs": [
        {
          "output_type": "stream",
          "text": [
            "Original shape: (84, 84, 3)\n",
            "Processed shape: (84, 84, 3)\n"
          ],
          "name": "stdout"
        },
        {
          "output_type": "display_data",
          "data": {
            "image/png": "[encoded data removed]",
            "text/plain": [
              "<Figure size 432x288 with 1 Axes>"
            ]
          },
          "metadata": {
            "tags": []
          }
        }
      ]
    },
    {
      "cell_type": "markdown",
      "metadata": {
        "id": "NisZJvvhB1cw",
        "colab_type": "text"
      },
      "source": [
        "### Implemting Deep-Q Convolution n/w"
      ]
    },
    {
      "cell_type": "code",
      "metadata": {
        "id": "o17ujtWDB1sG",
        "colab_type": "code",
        "colab": {
          "base_uri": "https://localhost:8080/",
          "height": 34
        },
        "outputId": "afb4cc7f-89ad-4a74-df32-9a6e1406a5ea"
      },
      "source": [
        "from keras.models import Model\n",
        "from keras.layers import Conv2D, Dense, Flatten, Input, Lambda\n",
        "import keras.backend as K\n",
        "\n",
        "class Qnetwork():\n",
        "    def __init__(self, final_layer_size):\n",
        "        # The input image of the game is 84 x 84 x 3 (RGB) \n",
        "        self.inputs = Input(shape=[*process_state(env.state).shape], name=\"main_input\")\n",
        "\n",
        "        # There will be four layers of convolutions performed on the image input\n",
        "        # A convolution take a portion of an input and matrix multiplies\n",
        "        # a filter on the portion to get a new input (see below)\n",
        "        self.model = Conv2D(filters=32, kernel_size=[8,8], strides=[4,4], activation=\"relu\", padding=\"valid\", name=\"conv1\")(self.inputs)\n",
        "        self.model = Conv2D(filters=64, kernel_size=[4,4], strides=[2,2], activation=\"relu\", padding=\"valid\", name=\"conv2\")(self.model)\n",
        "        self.model = Conv2D(filters=64, kernel_size=[3,3], strides=[1,1], activation=\"relu\", padding=\"valid\", name=\"conv3\")(self.model)\n",
        "        self.model = Conv2D(filters= final_layer_size, kernel_size=[7,7], strides=[1,1], activation=\"relu\",padding=\"valid\", name=\"conv4\")(self.model)\n",
        "        \n",
        "        \n",
        "        # We then separate the final convolution layer into an advantage and value\n",
        "        # stream, 1/2 weights attached to each.. The value function is how well off you are in a given state.\n",
        "        # The advantage is the how much better off you are after making a particular\n",
        "        # move. Q is the value function of a state after a given action.\n",
        "        # Advantage(state, action) = Q(state, action) - Value(state)\n",
        "\n",
        "        self.stream_AC = Lambda(lambda layer: layer[:,:,:,:final_layer_size // 2],name=\"advantage\")(self.model)\n",
        "        self.stream_VC = Lambda(lambda layer: layer[:,:,:,final_layer_size // 2:],name=\"value\")(self.model)\n",
        "        \n",
        "        # We then flatten the advantage and value functions\n",
        "        self.stream_AC = Flatten(name=\"advantage_flatten\")(self.stream_AC)\n",
        "        self.stream_VC = Flatten(name=\"value_flatten\")(self.stream_VC)\n",
        "        \n",
        "        # We define weights for our advantage and value layers. We will train these\n",
        "        # layers so the matmul will match the expected value and advantage from play\n",
        "        self.Advantage = Dense(env.actions, name=\"advantage_final\")(self.stream_AC)\n",
        "        self.Value = Dense(1, name=\"value_final\")(self.stream_VC)\n",
        "\n",
        "        #Ques - what are we trying to optimize ?? Guess in Keras we dont define target varible and it is passed at training time. (train_on_batch)\n",
        "        \n",
        "        # To get the Q output, we need to add the value to the advantage.\n",
        "        # The advantage to be evaluated will be based on how good the action\n",
        "        # is based on the average advantage of that state\n",
        "        self.model = Lambda(lambda x: x[0] + (x[1] - K.mean(x[1], axis=1, keepdims=True)), name=\"final_out\")([self.Value, self.Advantage])\n",
        "        \n",
        "        self.model = Model(self.inputs, self.model)\n",
        "        self.model.compile(\"adam\", \"mse\")\n",
        "        self.model.optimizer.lr = 0.0001"
      ],
      "execution_count": 6,
      "outputs": [
        {
          "output_type": "stream",
          "text": [
            "Using TensorFlow backend.\n"
          ],
          "name": "stderr"
        }
      ]
    },
    {
      "cell_type": "code",
      "metadata": {
        "id": "S9OuXuYfC7Gg",
        "colab_type": "code",
        "colab": {
          "base_uri": "https://localhost:8080/",
          "height": 173
        },
        "outputId": "ac077fbc-8ce6-4580-909a-80b9515e0ced"
      },
      "source": [
        "main_qn = Qnetwork(512)\n",
        "target_qn = Qnetwork(512)"
      ],
      "execution_count": 7,
      "outputs": [
        {
          "output_type": "stream",
          "text": [
            "WARNING:tensorflow:From /usr/local/lib/python3.6/dist-packages/keras/backend/tensorflow_backend.py:541: The name tf.placeholder is deprecated. Please use tf.compat.v1.placeholder instead.\n",
            "\n",
            "WARNING:tensorflow:From /usr/local/lib/python3.6/dist-packages/keras/backend/tensorflow_backend.py:4432: The name tf.random_uniform is deprecated. Please use tf.random.uniform instead.\n",
            "\n",
            "WARNING:tensorflow:From /usr/local/lib/python3.6/dist-packages/keras/backend/tensorflow_backend.py:66: The name tf.get_default_graph is deprecated. Please use tf.compat.v1.get_default_graph instead.\n",
            "\n",
            "WARNING:tensorflow:From /usr/local/lib/python3.6/dist-packages/keras/optimizers.py:793: The name tf.train.Optimizer is deprecated. Please use tf.compat.v1.train.Optimizer instead.\n",
            "\n"
          ],
          "name": "stdout"
        }
      ]
    },
    {
      "cell_type": "code",
      "metadata": {
        "id": "M2UVssqnFE9o",
        "colab_type": "code",
        "outputId": "7ad02fc3-7228-4c2a-a7f3-76cff9f98673",
        "colab": {
          "base_uri": "https://localhost:8080/",
          "height": 578
        }
      },
      "source": [
        "main_qn.model.summary()"
      ],
      "execution_count": 8,
      "outputs": [
        {
          "output_type": "stream",
          "text": [
            "Model: \"model_1\"\n",
            "__________________________________________________________________________________________________\n",
            "Layer (type)                    Output Shape         Param #     Connected to                     \n",
            "==================================================================================================\n",
            "main_input (InputLayer)         (None, 84, 84, 3)    0                                            \n",
            "__________________________________________________________________________________________________\n",
            "conv1 (Conv2D)                  (None, 20, 20, 32)   6176        main_input[0][0]                 \n",
            "__________________________________________________________________________________________________\n",
            "conv2 (Conv2D)                  (None, 9, 9, 64)     32832       conv1[0][0]                      \n",
            "__________________________________________________________________________________________________\n",
            "conv3 (Conv2D)                  (None, 7, 7, 64)     36928       conv2[0][0]                      \n",
            "__________________________________________________________________________________________________\n",
            "conv4 (Conv2D)                  (None, 1, 1, 512)    1606144     conv3[0][0]                      \n",
            "__________________________________________________________________________________________________\n",
            "value (Lambda)                  (None, 1, 1, 256)    0           conv4[0][0]                      \n",
            "__________________________________________________________________________________________________\n",
            "advantage (Lambda)              (None, 1, 1, 256)    0           conv4[0][0]                      \n",
            "__________________________________________________________________________________________________\n",
            "value_flatten (Flatten)         (None, 256)          0           value[0][0]                      \n",
            "__________________________________________________________________________________________________\n",
            "advantage_flatten (Flatten)     (None, 256)          0           advantage[0][0]                  \n",
            "__________________________________________________________________________________________________\n",
            "value_final (Dense)             (None, 1)            257         value_flatten[0][0]              \n",
            "__________________________________________________________________________________________________\n",
            "advantage_final (Dense)         (None, 4)            1028        advantage_flatten[0][0]          \n",
            "__________________________________________________________________________________________________\n",
            "final_out (Lambda)              (None, 4)            0           value_final[0][0]                \n",
            "                                                                 advantage_final[0][0]            \n",
            "==================================================================================================\n",
            "Total params: 1,683,365\n",
            "Trainable params: 1,683,365\n",
            "Non-trainable params: 0\n",
            "__________________________________________________________________________________________________\n"
          ],
          "name": "stdout"
        }
      ]
    },
    {
      "cell_type": "markdown",
      "metadata": {
        "id": "NimHU9GnKOg3",
        "colab_type": "text"
      },
      "source": [
        "### Experience Replay\n",
        "This class allows us to store experiences and sample them randomly for learning"
      ]
    },
    {
      "cell_type": "code",
      "metadata": {
        "id": "NOttw3b0KQ0D",
        "colab_type": "code",
        "colab": {}
      },
      "source": [
        "def update_target_graph(main_graph, target_graph, tau):\n",
        "    updated_weights = (np.array(main_graph.get_weights()) * tau) + (np.array(target_graph.get_weights()) * (1 - tau))\n",
        "    target_graph.set_weights(updated_weights)\n",
        "    \n",
        "class ExperienceReplay:\n",
        "    def __init__(self,buffer_size=50000):\n",
        "        \"\"\" Data structure used to hold game experiences \"\"\"\n",
        "        # Buffer will contain [state,action,reward,next_state,done]\n",
        "        self.buffer = []\n",
        "        self.buffer_size = buffer_size\n",
        "    \n",
        "    def add(self, experience):\n",
        "        \"\"\" Adds list of experiences to the buffer \"\"\"\n",
        "        # Extend the stored experiences\n",
        "        self.buffer.extend(experience)\n",
        "        # Keep the last buffer_size number of experiences\n",
        "        self.buffer = self.buffer[-self.buffer_size:]\n",
        "        \n",
        "    def sample(self, size):\n",
        "        \"\"\" Returns a sample of experiences from the buffer \"\"\"\n",
        "        sample_idxs = np.random.randint(len(self.buffer), size=size)\n",
        "        sample_output = [self.buffer[idx] for idx in sample_idxs]\n",
        "        sample_output = np.reshape(sample_output, (size, -1))\n",
        "        return sample_output\n"
      ],
      "execution_count": 0,
      "outputs": []
    },
    {
      "cell_type": "markdown",
      "metadata": {
        "id": "PBIFV9LdKuAA",
        "colab_type": "text"
      },
      "source": [
        "### Training the network\n"
      ]
    },
    {
      "cell_type": "code",
      "metadata": {
        "id": "KzlLjTPpKsYX",
        "colab_type": "code",
        "colab": {}
      },
      "source": [
        "batch_size = 64 # How many experiences to use for each training step\n",
        "num_epochs = 20 # How many epochs to train\n",
        "\n",
        "update_freq = 5 # How often you update the network\n",
        "y = 0.99 # Discount factor\n",
        "\n",
        "prob_random_start = 0.6 # Starting chance of random action\n",
        "prob_random_end = 0.1 # Ending chance of random action\n",
        "\n",
        "annealing_steps = 1000. # Steps of training to reduce from start_e -> end_e\n",
        "num_episodes = 10000 # How many episodes of game environment to train\n",
        "pre_train_episodes = 100 # Number of episodes of random actions\n",
        "\n",
        "max_num_step = 75 # Maximum allowed episode length\n",
        "\n",
        "load_model = False # Whether to load a saved model\n",
        "path = \"./models_1\" # Path to save our model to\n",
        "!rm -rf path\n",
        "main_weights_file = path + \"/main_weights.h5\" # File to save our main weights to\n",
        "target_weights_file = path + \"/target_weights.h5\" # File to save our target weights to\n",
        "\n",
        "final_layer_size = 512 # Size of the final convolution layer before \n",
        "                       # splitting into Advantage and Value streams\n",
        "  \n",
        "tau = 1 # Rate to update target network toward primary network\n",
        "goal = 25"
      ],
      "execution_count": 0,
      "outputs": []
    },
    {
      "cell_type": "code",
      "metadata": {
        "id": "F_PgxFKrPIPz",
        "colab_type": "code",
        "outputId": "a61e4d36-1962-4758-ca86-53fd6fc744b0",
        "colab": {
          "base_uri": "https://localhost:8080/",
          "height": 323
        }
      },
      "source": [
        "# Reset everything\n",
        "K.clear_session()\n",
        "\n",
        "# Setup our Q-networks\n",
        "main_qn = Qnetwork(final_layer_size)\n",
        "target_qn = Qnetwork(final_layer_size)\n",
        "\n",
        "# Make the networks equal\n",
        "update_target_graph(main_qn.model, target_qn.model, 1)\n",
        "\n",
        "# Setup our experience replay\n",
        "experience_replay = ExperienceReplay()\n",
        "\n",
        "# We'll begin by acting complete randomly. As we gain experience and improve,\n",
        "# we will begin reducing the probability of acting randomly, and instead\n",
        "# take the actions that our Q network suggests\n",
        "prob_random = prob_random_start\n",
        "prob_random_drop = (prob_random_start - prob_random_end) / annealing_steps\n",
        "\n",
        "num_steps = [] # Tracks number of steps per episode\n",
        "rewards = [] # Tracks rewards per episode\n",
        "total_steps = 0 # Tracks cumulative steps taken in training\n",
        "\n",
        "print_every = 50 # How often to print status\n",
        "save_every = 5 # How often to save\n",
        "\n",
        "losses = [0] # Tracking training losses\n",
        "\n",
        "# Setup path for saving\n",
        "if not os.path.exists(path):\n",
        "    os.makedirs(path)\n",
        "\n",
        "if load_model == True:\n",
        "    if os.path.exists(main_weights_file):\n",
        "        print(\"Loading main weights\")\n",
        "        main_qn.model.load_weights(main_weights_file)\n",
        "    if os.path.exists(target_weights_file):\n",
        "        print(\"Loading target weights\")\n",
        "        target_qn.model.load_weights(target_weights_file)\n",
        "\n",
        "for num_episode in range(num_episodes):\n",
        "\n",
        "    # Create an experience replay for the current episode\n",
        "    episode_buffer = ExperienceReplay()\n",
        "\n",
        "    # Get the game state from the environment\n",
        "    state = env.reset()\n",
        "\n",
        "    done = False # Game is complete\n",
        "    sum_rewards = 0 # Running sum of rewards in episode\n",
        "    cur_step = 0 # Running sum of number of steps taken in episode\n",
        "\n",
        "    ''' Save all the interaction with Env '''\n",
        "    while cur_step < max_num_step and not done:\n",
        "        cur_step += 1\n",
        "        total_steps += 1\n",
        "\n",
        "        if np.random.rand() < prob_random or num_episode < pre_train_episodes:\n",
        "                # Act randomly based on prob_random or if we\n",
        "                # have not accumulated enough pre_train episodes\n",
        "                action = np.random.randint(env.actions)\n",
        "        else:\n",
        "            # Decide what action to take from the Q network\n",
        "            action = np.argmax(main_qn.model.predict(np.array([state])))\n",
        "\n",
        "        # Take the action and retrieve the next state, reward and done\n",
        "        state_next, reward, done = env.step(action)\n",
        "        state_next = process_state(state_next)\n",
        "\n",
        "        # Setup the episode to be stored in the episode buffer\n",
        "        episode = np.array([[state], action, reward, [state_next], done])\n",
        "        episode = episode.reshape(1,-1)\n",
        "\n",
        "        # Store the experience in the episode buffer\n",
        "        episode_buffer.add(episode)\n",
        "\n",
        "        # Update the running rewards\n",
        "        sum_rewards += reward\n",
        "\n",
        "        # Update the state\n",
        "        state = state_next\n",
        "\n",
        "\n",
        "    if num_episode > pre_train_episodes:\n",
        "        # Training the network\n",
        "\n",
        "        if prob_random > prob_random_end:\n",
        "            # Drop the probability of a random action\n",
        "            prob_random -= prob_random_drop\n",
        "\n",
        "        if num_episode % update_freq == 0:\n",
        "            for num_epoch in range(num_epochs):\n",
        "              \n",
        "                ''' Below Bellman equation will run we will use actual experiances from main model and\n",
        "                will use actual reward + discounted rewards from target model to recalculate value\n",
        "                \n",
        "                target_q [action] = actual_reward (main_nw) + discounted_Qvalue (target_nw) \n",
        "                \n",
        "                '''\n",
        "                # Train batch is [[state,action,reward,next_state,done],...]\n",
        "                train_batch = experience_replay.sample(batch_size)\n",
        "\n",
        "                # Separate the batch into its components\n",
        "                state_m, action_m, reward, state_next_m, done = train_batch.T\n",
        "                \n",
        "                # Convert the action array into an array of ints so they can be used for indexing\n",
        "                action_m = action_m.astype(np.int)\n",
        "\n",
        "                # Stack the states and train_next_state for learning\n",
        "                state_m = np.vstack(state_m)\n",
        "                state_next_m = np.vstack(state_next_m)\n",
        "\n",
        "                \n",
        "                ''' \n",
        "                In order to train n/w we need output from our target n/w modified with optimum rewards\n",
        "                Based on Bellmon Equation we know that\n",
        "                \n",
        "                Q_out = rewards + discount_factor  * (future_rewards / advantage)\n",
        "                \n",
        "                We have rewards and duscount_factor, but advantage are unknown, advantage are just new state values from our target n/w.\n",
        "                '''\n",
        "                output_t = target_qn.model.predict(state_m)\n",
        "\n",
        "                \n",
        "                # The Q values from our target network from the next state\n",
        "                output_state_next_m = main_qn.model.predict(state_next_m)\n",
        "                \n",
        "                action_state_next_m = np.argmax(output_state_next_m,axis=1).astype(np.int)\n",
        "\n",
        "                # Q value of the next state based on action\n",
        "                Qout_state_next_m = output_state_next_m[range(batch_size), action_state_next_m]\n",
        "\n",
        "                ''''Tells us whether game over or not, We will multiply our rewards by this value to ensure we don't train on the last move '''\n",
        "                train_gameover = done == 0\n",
        "                \n",
        "                # Reward from the action chosen in the train batch\n",
        "                actual_reward = reward + (y * Qout_state_next_m * train_gameover)\n",
        "                ''' Remember we are not overriding every value in output_t only the best action q value'''\n",
        "                output_t[range(batch_size), action_m] = actual_reward\n",
        "\n",
        "                # Train the main model\n",
        "                '''\n",
        "                Ideally we dont need target model, but here we can see that with each update weight will change\n",
        "                which will contradict with target_q value we will be generating, hence we are keeping target constant but generating from \n",
        "                identical but slightly outdated same model copy.\n",
        "                '''\n",
        "\n",
        "                loss = main_qn.model.train_on_batch(state_m, output_t)  \n",
        "                \n",
        "                losses.append(loss)\n",
        "                \n",
        "            # Update the target model with values from the main model\n",
        "            update_target_graph(main_qn.model, target_qn.model, tau)\n",
        "\n",
        "            if (num_episode + 1) % save_every == 0:\n",
        "                # Save the model\n",
        "                main_qn.model.save_weights(main_weights_file)\n",
        "                target_qn.model.save_weights(target_weights_file)\n",
        "\n",
        "    # Increment the episode\n",
        "    num_episode += 1\n",
        "\n",
        "    experience_replay.add(episode_buffer.buffer)\n",
        "    num_steps.append(cur_step)\n",
        "    rewards.append(sum_rewards)\n",
        "        \n",
        "    if num_episode % print_every == 0:\n",
        "        # Print progress\n",
        "        mean_loss = np.mean(losses[-(print_every * num_epochs):])\n",
        "\n",
        "        print(\"Num episode: {} Mean reward: {:0.4f} Prob random: {:0.4f}, Loss: {:0.04f}\".format(\n",
        "            num_episode, np.mean(rewards[-print_every:]), prob_random, mean_loss))\n",
        "        if np.mean(rewards[-print_every:]) >= goal:\n",
        "            print(\"Training complete!\")\n",
        "            break"
      ],
      "execution_count": 18,
      "outputs": [
        {
          "output_type": "stream",
          "text": [
            "Num episode: 50 Mean reward: 3.0000 Prob random: 0.6000, Loss: 0.0000\n",
            "Num episode: 100 Mean reward: 2.3800 Prob random: 0.6000, Loss: 0.0000\n",
            "Num episode: 150 Mean reward: 2.0400 Prob random: 0.5755, Loss: 0.0310\n",
            "Num episode: 200 Mean reward: 3.6800 Prob random: 0.5505, Loss: 0.0290\n",
            "Num episode: 250 Mean reward: 10.2400 Prob random: 0.5255, Loss: 0.0302\n",
            "Num episode: 300 Mean reward: 11.8400 Prob random: 0.5005, Loss: 0.0389\n",
            "Num episode: 350 Mean reward: 15.3200 Prob random: 0.4755, Loss: 0.0539\n",
            "Num episode: 400 Mean reward: 15.7600 Prob random: 0.4505, Loss: 0.0762\n",
            "Num episode: 450 Mean reward: 18.8000 Prob random: 0.4255, Loss: 0.1057\n",
            "Num episode: 500 Mean reward: 19.1200 Prob random: 0.4005, Loss: 0.1406\n",
            "Num episode: 550 Mean reward: 20.6800 Prob random: 0.3755, Loss: 0.1739\n",
            "Num episode: 600 Mean reward: 22.3600 Prob random: 0.3505, Loss: 0.2017\n",
            "Num episode: 650 Mean reward: 22.1800 Prob random: 0.3255, Loss: 0.2228\n",
            "Num episode: 700 Mean reward: 23.7600 Prob random: 0.3005, Loss: 0.2432\n",
            "Num episode: 750 Mean reward: 24.2200 Prob random: 0.2755, Loss: 0.2636\n",
            "Num episode: 800 Mean reward: 24.5400 Prob random: 0.2505, Loss: 0.2791\n",
            "Num episode: 850 Mean reward: 26.1000 Prob random: 0.2255, Loss: 0.2971\n",
            "Training complete!\n"
          ],
          "name": "stdout"
        }
      ]
    },
    {
      "cell_type": "code",
      "metadata": {
        "id": "Kovmwmdj90r7",
        "colab_type": "code",
        "colab": {}
      },
      "source": [
        "main_qn.model.save_weights(main_weights_file)\n",
        "target_qn.model.save_weights(target_weights_file)"
      ],
      "execution_count": 0,
      "outputs": []
    },
    {
      "cell_type": "code",
      "metadata": {
        "id": "Vl-PtvseE9uq",
        "colab_type": "code",
        "outputId": "a37f54df-580b-47e8-cdd8-eec1d171b755",
        "colab": {
          "base_uri": "https://localhost:8080/",
          "height": 1000
        }
      },
      "source": [
        "f, axes = plt.subplots(nrows=max_num_step//5, ncols=5, sharex=True, sharey=True, figsize=(10,20))\n",
        "done = False\n",
        "num_step = 0\n",
        "sum_rewards = 0\n",
        "state = env.reset()\n",
        "state = process_state(state)\n",
        "\n",
        "while not done and num_step < max_num_step:\n",
        "    action = np.argmax(main_qn.model.predict(np.array([state])),axis=1)\n",
        "    next_state, reward, done = env.step(action)\n",
        "    state = process_state(next_state)\n",
        "    ax = axes.ravel()[num_step]    \n",
        "    ax.imshow(state)\n",
        "    ax.set_axis_off()\n",
        "    ax.set_title(\"#{} a:{} r:{}\".format(num_step, action, int(reward)))\n",
        "    num_step += 1"
      ],
      "execution_count": 20,
      "outputs": [
        {
          "output_type": "display_data",
          "data": {
            "image/png": "[encoded data removed]",
            "text/plain": [
              "<Figure size 720x1440 with 75 Axes>"
            ]
          },
          "metadata": {
            "tags": []
          }
        }
      ]
    }
  ]
}